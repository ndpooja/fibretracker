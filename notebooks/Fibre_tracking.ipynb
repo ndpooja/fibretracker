{
 "cells": [
  {
   "cell_type": "code",
   "execution_count": null,
   "metadata": {},
   "outputs": [],
   "source": [
    "import fibretracker\n",
    "# Change to use hte backend that you prefer\n",
    "# %matplotlib widget"
   ]
  },
  {
   "cell_type": "code",
   "execution_count": null,
   "metadata": {},
   "outputs": [],
   "source": [
    "data_path = '/Users/pooja/Documents/PhD_work/ICPR_docs/data/Mock_UD_GFRP_data/UD-01_FoV_2_B2_recon.txm'\n",
    "data_path1 = '/Users/pooja/Documents/PhD_work/ICPR_docs/data/Mock_UD_GFRP_data/Mock-01_FoV_2_B2_recon.txm'\n",
    "data_path2 = '/Users/pooja/Documents/PhD_work/ICPR_docs/data/Mock_UD_GFRP_data/GFRP'\n",
    "data_path3 = '/Users/pooja/Documents/PhD_work/ICPR_docs/data/Mock_UD_GFRP_data/SCT'\n",
    "\n",
    "# V_GFRP = fibretracker.io.load(data_path2, contains='.tif')\n",
    "# V_SCT = fibretracker.io.load(data_path3, contains='.tif')\n",
    "\n",
    "V_txm1 = fibretracker.io.load(data_path)\n",
    "# V_txm2 = fibretracker.io.load(data_path1)\n",
    "\n",
    "V_norm = fibretracker.io.normalize_volume(V_txm1).astype(float)"
   ]
  },
  {
   "cell_type": "code",
   "execution_count": null,
   "metadata": {},
   "outputs": [],
   "source": [
    "V_tmp = V_norm[100:250]\n",
    "# V_tmp = V_norm\n",
    "coords = fibretracker.models.get_coords(V_tmp)"
   ]
  },
  {
   "cell_type": "code",
   "execution_count": null,
   "metadata": {},
   "outputs": [],
   "source": [
    "fibretracker.viz.slicer(V_tmp, img_height=7, img_width=7, cmap='gray')"
   ]
  },
  {
   "cell_type": "code",
   "execution_count": null,
   "metadata": {},
   "outputs": [],
   "source": [
    "fibretracker.viz.orthogonal(V_tmp, img_height=7, img_width=7, cmap='gray')"
   ]
  },
  {
   "cell_type": "code",
   "execution_count": null,
   "metadata": {},
   "outputs": [],
   "source": [
    "fibretracker.viz.slicer(V_tmp, detect_coords=coords, mark_size=2, img_height=7, img_width=7, cmap='gray')"
   ]
  },
  {
   "cell_type": "code",
   "execution_count": null,
   "metadata": {},
   "outputs": [],
   "source": [
    "# fibre can be tracked either directly from the volume or from the detected coordinates, or both[to avoid coordinate detection again]\n",
    "\n",
    "tracks = fibretracker.models.track_fibres(V_tmp, smoothtrack_watershed=True)\n",
    "# tracks = fibretracker.models.track_fibres(V_tmp, smoothtrack_gaussian=True)\n",
    "# tracks = fibretracker.models.track_fibres(coords=coords)\n",
    "# tracks = fibretracker.models.track_fibres(coords=coords, smoothtrack_gaussian=True)\n",
    "# tracks = fibretracker.models.track_fibres(V_tmp, coords=coords, smoothtrack_gaussian=True)\n",
    "# tracks = fibretracker.models.track_fibres(V_tmp, coords=coords, smoothtrack_watershed=True)\n",
    "\n"
   ]
  },
  {
   "cell_type": "code",
   "execution_count": null,
   "metadata": {},
   "outputs": [],
   "source": [
    "%matplotlib widget\n",
    "fibretracker.viz.plot_tracks(tracks)"
   ]
  }
 ],
 "metadata": {
  "kernelspec": {
   "display_name": "insegtenv",
   "language": "python",
   "name": "python3"
  },
  "language_info": {
   "codemirror_mode": {
    "name": "ipython",
    "version": 3
   },
   "file_extension": ".py",
   "mimetype": "text/x-python",
   "name": "python",
   "nbconvert_exporter": "python",
   "pygments_lexer": "ipython3",
   "version": "3.11.9"
  }
 },
 "nbformat": 4,
 "nbformat_minor": 2
}
